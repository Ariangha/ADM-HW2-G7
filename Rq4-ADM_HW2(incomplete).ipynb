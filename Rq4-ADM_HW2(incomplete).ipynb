{
 "cells": [
  {
   "cell_type": "code",
   "execution_count": 9,
   "metadata": {},
   "outputs": [],
   "source": [
    "import pandas as pd\n",
    "import seaborn as sms\n",
    "import matplotlib.pyplot as plt\n",
    "from scipy.stats import pearsonr, spearmanr"
   ]
  },
  {
   "cell_type": "code",
   "execution_count": 10,
   "metadata": {},
   "outputs": [],
   "source": [
    "df=pd.read_csv('steam_reviews.csv', usecols=['app_name','recommended','author.playtime_forever','author.playtime_at_review'])"
   ]
  },
  {
   "cell_type": "code",
   "execution_count": null,
   "metadata": {},
   "outputs": [],
   "source": [
    "plt.figure(figsize=(10, 6))\n",
    "sms.scatterplot(x=df['author.playtime_forever'], \n",
    "                y=df['review_score'], \n",
    "                alpha=0.6)\n",
    "plt.title('Relationship between Playtime and Review Score')\n",
    "plt.xlabel('Playtime (minutes)')\n",
    "plt.ylabel('Review Score')\n",
    "plt.grid(True)\n",
    "plt.ylim(0, 1)  # Adjust if your review score is scaled from 0 to 10\n",
    "plt.show()"
   ]
  },
  {
   "cell_type": "code",
   "execution_count": null,
   "metadata": {},
   "outputs": [],
   "source": [
    "# Function to classify users based on playtime\n",
    "def categorize_user_experience(playtime):\n",
    "    if playtime < 20:\n",
    "        return 'New User'\n",
    "    elif playtime < 100:\n",
    "        return 'Experienced User'\n",
    "    else:\n",
    "        return 'Veteran User'\n",
    "\n",
    "# Apply the function to create a new column in the DataFrame\n",
    "df['user_experience'] = df['author.playtime_forever'].apply(categorize_user_experience)"
   ]
  },
  {
   "cell_type": "code",
   "execution_count": null,
   "metadata": {},
   "outputs": [],
   "source": [
    "#Remember how we defined review_score and add this coloumn\n",
    "\n",
    "\n",
    "# Step 1: Calculate positive and total reviews for each application\n",
    "review_counts = df.groupby('app_name').agg(\n",
    "    positive_reviews=('recommended', 'sum'),  # Sum of recommended reviews (1s)\n",
    "    total_reviews=('recommended', 'count')     # Total number of reviews (1s and 0s)\n",
    ").reset_index()\n",
    "\n",
    "# Step 2: Calculate negative reviews\n",
    "review_counts['negative_reviews'] = review_counts['total_reviews'] - review_counts['positive_reviews']\n",
    "\n",
    "# Step 3: Calculate the ratio of positive to negative reviews, avoiding division by zero\n",
    "review_counts['review_ratio'] = review_counts.apply(\n",
    "    lambda row: row['positive_reviews'] / row['negative_reviews'] if row['negative_reviews'] > 0 else 1,\n",
    "    axis=1\n",
    ")\n",
    "\n",
    "# Step 4: Define review_score \n",
    "review_counts['review_score'] = (review_counts['review_ratio'] / review_counts['review_ratio'].max()) * 10\n",
    "\n",
    "# Step 5: Merge the review score into your original DataFrame\n",
    "df = df.merge(review_counts[['app_name', 'review_score']], on='app_name', how='left')\n",
    "\n",
    "\n"
   ]
  },
  {
   "cell_type": "code",
   "execution_count": null,
   "metadata": {},
   "outputs": [],
   "source": [
    "# Calculate average review scores for each user experience level\n",
    "average_scores = df.groupby('user_experience')['review_score'].mean().reset_index()\n",
    "print(average_scores)\n"
   ]
  },
  {
   "cell_type": "markdown",
   "metadata": {},
   "source": [
    "On average the review score of experienced and veteran users is similar, whereas new users tend to give lower scores to the applications. We should not focus so much on the numbers itself, because they are effected from our choice of time needed to be played to pass from a category to another. We should focus more on the clear difference of rating between new users and more experienced that underlines a trend where more experinced players tend to give higher scores. \n",
    "We try to suggest a couple of possible reasons why this happens:\n",
    "- Beginners have more expectetions and less clue, and unmet expectations can lead to a sense of dissatisfaction towards the game which can lead to negative reviews that influence the everage score.\n",
    "- Usually those who enjoy the experience tend to spend more time playing and leave favor.\n",
    "\n",
    " "
   ]
  },
  {
   "cell_type": "code",
   "execution_count": null,
   "metadata": {},
   "outputs": [],
   "source": [
    "import matplotlib.pyplot as plt"
   ]
  },
  {
   "cell_type": "code",
   "execution_count": null,
   "metadata": {},
   "outputs": [],
   "source": [
    "plt.figure(figsize=(12, 6))\n",
    "sms.histplot(df, x='review_score', hue='user_experience', element='step', kde=True, \n",
    "             palette={'New User': 'lightcoral', 'Experienced User': 'gold', 'Veteran User': 'mediumseagreen'},\n",
    "             stat='density', common_norm=False)\n",
    "plt.title('Distribution of Review Scores by User Experience Level')\n",
    "plt.xlabel('Review Score')\n",
    "plt.ylabel('Density')\n",
    "plt.xlim(0, 1)  # Adjust this if the review score range is different\n",
    "plt.show()\n"
   ]
  },
  {
   "cell_type": "code",
   "execution_count": null,
   "metadata": {},
   "outputs": [],
   "source": []
  }
 ],
 "metadata": {
  "kernelspec": {
   "display_name": "Python 3",
   "language": "python",
   "name": "python3"
  },
  "language_info": {
   "codemirror_mode": {
    "name": "ipython",
    "version": 3
   },
   "file_extension": ".py",
   "mimetype": "text/x-python",
   "name": "python",
   "nbconvert_exporter": "python",
   "pygments_lexer": "ipython3",
   "version": "3.13.0"
  }
 },
 "nbformat": 4,
 "nbformat_minor": 2
}
