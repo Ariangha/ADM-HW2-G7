{
 "cells": [
  {
   "cell_type": "code",
   "execution_count": null,
   "id": "68cd8a46-e88d-4237-9a9d-f66118d4b13c",
   "metadata": {},
   "outputs": [],
   "source": [
    "def solve(n, k):\n",
    "    # Check for odd integers\n",
    "    if n >= k and (n % 2 == k % 2):\n",
    "        return \"YES\", [1] * (k - 1) + [n - (k - 1)]\n",
    "    \n",
    "    # Check for even integers\n",
    "    if n >= 2 * k:\n",
    "        return \"YES\", [2] * (k - 1) + [n - 2 * (k - 1)]\n",
    "    \n",
    "    return \"NO\", []\n",
    "\n",
    "def main():\n",
    "    t = int(input())\n",
    "    for _ in range(t):\n",
    "        n, k = map(int, input().split())\n",
    "        result, integers = solve(n, k)\n",
    "        print(result)\n",
    "        if result == \"YES\":\n",
    "            print(\" \".join(map(str, integers)))\n",
    "\n",
    "if __name__ == \"__main__\":\n",
    "    main()"
   ]
  }
 ],
 "metadata": {
  "kernelspec": {
   "display_name": "Python 3 (ipykernel)",
   "language": "python",
   "name": "python3"
  },
  "language_info": {
   "codemirror_mode": {
    "name": "ipython",
    "version": 3
   },
   "file_extension": ".py",
   "mimetype": "text/x-python",
   "name": "python",
   "nbconvert_exporter": "python",
   "pygments_lexer": "ipython3",
   "version": "3.12.4"
  }
 },
 "nbformat": 4,
 "nbformat_minor": 5
}
